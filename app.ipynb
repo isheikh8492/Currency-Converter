{
 "cells": [
  {
   "cell_type": "code",
   "execution_count": 2,
   "id": "northern-lodge",
   "metadata": {},
   "outputs": [],
   "source": [
    "import datetime\n",
    "import json\n",
    "import urllib.request, json \n",
    "with urllib.request.urlopen(\"http://data.fixer.io/api/latest?access_key=2179433ad61d935639f9bc75e180bdf0&format=1\") as url:\n",
    "    data = json.loads(url.read().decode())\n"
   ]
  },
  {
   "cell_type": "code",
   "execution_count": 4,
   "id": "capable-ukraine",
   "metadata": {},
   "outputs": [
    {
     "name": "stdout",
     "output_type": "stream",
     "text": [
      "Enter the amount of currency: 2\n",
      "313.39\n"
     ]
    }
   ],
   "source": [
    "cur_to = \"PKR\"\n",
    "cur_from = \"USD\"\n",
    "\n",
    "amount = float(input(\"Enter the amount of currency: \"))\n",
    "\n",
    "cur_from_val = float(data[\"rates\"][cur_from])\n",
    "cur_to_val = float(data[\"rates\"][cur_to])\n",
    "\n",
    "result = round(amount * (cur_to_val/cur_from_val), 2)\n",
    "\n",
    "print(result)"
   ]
  },
  {
   "cell_type": "code",
   "execution_count": null,
   "id": "bizarre-quarter",
   "metadata": {},
   "outputs": [],
   "source": [
    "import tkinter"
   ]
  }
 ],
 "metadata": {
  "kernelspec": {
   "display_name": "Python 3",
   "language": "python",
   "name": "python3"
  },
  "language_info": {
   "codemirror_mode": {
    "name": "ipython",
    "version": 3
   },
   "file_extension": ".py",
   "mimetype": "text/x-python",
   "name": "python",
   "nbconvert_exporter": "python",
   "pygments_lexer": "ipython3",
   "version": "3.8.7"
  }
 },
 "nbformat": 4,
 "nbformat_minor": 5
}
